{
 "cells": [
  {
   "cell_type": "markdown",
   "id": "1ad82bbe-43c6-46d8-8030-2d30d109d8a8",
   "metadata": {},
   "source": [
    "## Vishal's Homework"
   ]
  },
  {
   "cell_type": "code",
   "execution_count": null,
   "id": "5f69981f-de89-44c7-8930-ea03c29af3dc",
   "metadata": {},
   "outputs": [],
   "source": [
    "#03_homework_Orchestration_and_ML_Pipelines.ipynb"
   ]
  },
  {
   "cell_type": "markdown",
   "id": "e8b0a9df-0c7f-4b16-b2ea-52d228055e14",
   "metadata": {},
   "source": [
    "Question 1. Run Mage First, let's run Mage with Docker Compose. Follow the quick start guideline.\n",
    "\n",
    "What's the version of Mage we run?\n",
    "\n",
    "(You can see it in the UI)"
   ]
  },
  {
   "cell_type": "code",
   "execution_count": null,
   "id": "48341c8b-42f2-4b2a-acee-a3d6c7b686f1",
   "metadata": {},
   "outputs": [],
   "source": []
  },
  {
   "cell_type": "markdown",
   "id": "4c4c3e66-b658-470e-9430-7b8ddeacf9c6",
   "metadata": {},
   "source": [
    "Question 2. Creating a project Now let's create a new project. We can call it \"homework_03\", for example.\n",
    "\n",
    "How many lines are in the created metadata.yaml file?\n",
    "\n",
    "35 45 55 65"
   ]
  },
  {
   "cell_type": "code",
   "execution_count": null,
   "id": "e035308a-c470-4bca-8fb7-cfede0de0e14",
   "metadata": {},
   "outputs": [],
   "source": []
  },
  {
   "cell_type": "markdown",
   "id": "3a59b632-ee8d-4c39-94a6-d0090731241e",
   "metadata": {},
   "source": [
    "Question 3. Creating a pipeline Let's create an ingestion code block.\n",
    "\n",
    "In this block, we will read the March 2023 Yellow taxi trips data.\n",
    "\n",
    "How many records did we load?\n",
    "\n",
    "3,003,766\n",
    "\n",
    "3,203,766\n",
    "\n",
    "3,403,766\n",
    "\n",
    "3,603,766"
   ]
  },
  {
   "cell_type": "code",
   "execution_count": null,
   "id": "ffcf0311-4c9b-41cf-8b32-2c4cee7f52fd",
   "metadata": {},
   "outputs": [],
   "source": []
  },
  {
   "cell_type": "code",
   "execution_count": null,
   "id": "0f4027c9-d4fe-49d3-a33c-6f4160076d7c",
   "metadata": {},
   "outputs": [],
   "source": []
  },
  {
   "cell_type": "code",
   "execution_count": null,
   "id": "f04fd245-c20f-4c2b-adac-24e11e1e6a28",
   "metadata": {},
   "outputs": [],
   "source": []
  },
  {
   "cell_type": "code",
   "execution_count": null,
   "id": "905461a0-dabf-4be7-9964-f312f089e25b",
   "metadata": {},
   "outputs": [],
   "source": []
  }
 ],
 "metadata": {
  "kernelspec": {
   "display_name": "Python 3 (ipykernel)",
   "language": "python",
   "name": "python3"
  },
  "language_info": {
   "codemirror_mode": {
    "name": "ipython",
    "version": 3
   },
   "file_extension": ".py",
   "mimetype": "text/x-python",
   "name": "python",
   "nbconvert_exporter": "python",
   "pygments_lexer": "ipython3",
   "version": "3.12.1"
  }
 },
 "nbformat": 4,
 "nbformat_minor": 5
}
