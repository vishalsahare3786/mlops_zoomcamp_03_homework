{
 "cells": [
  {
   "cell_type": "markdown",
   "id": "1ad82bbe-43c6-46d8-8030-2d30d109d8a8",
   "metadata": {},
   "source": [
    "## Vishal's Homework"
   ]
  },
  {
   "cell_type": "code",
   "execution_count": null,
   "id": "5f69981f-de89-44c7-8930-ea03c29af3dc",
   "metadata": {},
   "outputs": [],
   "source": [
    "#03_homework_Orchestration_and_ML_Pipelines.ipynb"
   ]
  },
  {
   "cell_type": "markdown",
   "id": "e8b0a9df-0c7f-4b16-b2ea-52d228055e14",
   "metadata": {},
   "source": [
    "Question 1. Run Mage First, let's run Mage with Docker Compose. Follow the quick start guideline.\n",
    "\n",
    "What's the version of Mage we run?\n",
    "\n",
    "(You can see it in the UI)"
   ]
  },
  {
   "cell_type": "code",
   "execution_count": null,
   "id": "905461a0-dabf-4be7-9964-f312f089e25b",
   "metadata": {},
   "outputs": [],
   "source": []
  }
 ],
 "metadata": {
  "kernelspec": {
   "display_name": "Python 3 (ipykernel)",
   "language": "python",
   "name": "python3"
  },
  "language_info": {
   "codemirror_mode": {
    "name": "ipython",
    "version": 3
   },
   "file_extension": ".py",
   "mimetype": "text/x-python",
   "name": "python",
   "nbconvert_exporter": "python",
   "pygments_lexer": "ipython3",
   "version": "3.12.1"
  }
 },
 "nbformat": 4,
 "nbformat_minor": 5
}
