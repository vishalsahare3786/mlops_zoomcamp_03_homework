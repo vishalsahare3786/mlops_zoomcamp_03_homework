{
 "cells": [
  {
   "cell_type": "markdown",
   "id": "1ad82bbe-43c6-46d8-8030-2d30d109d8a8",
   "metadata": {},
   "source": [
    "## Vishal's Homework"
   ]
  },
  {
   "cell_type": "code",
   "execution_count": null,
   "id": "5f69981f-de89-44c7-8930-ea03c29af3dc",
   "metadata": {},
   "outputs": [],
   "source": [
    "#03_homework_Orchestration_and_ML_Pipelines.ipynb"
   ]
  },
  {
   "cell_type": "markdown",
   "id": "e8b0a9df-0c7f-4b16-b2ea-52d228055e14",
   "metadata": {},
   "source": [
    "Question 1. Run Mage First, let's run Mage with Docker Compose. Follow the quick start guideline.\n",
    "\n",
    "What's the version of Mage we run?\n",
    "\n",
    "(You can see it in the UI)"
   ]
  },
  {
   "cell_type": "code",
   "execution_count": null,
   "id": "48341c8b-42f2-4b2a-acee-a3d6c7b686f1",
   "metadata": {},
   "outputs": [],
   "source": []
  },
  {
   "cell_type": "markdown",
   "id": "4c4c3e66-b658-470e-9430-7b8ddeacf9c6",
   "metadata": {},
   "source": [
    "Question 2. Creating a project Now let's create a new project. We can call it \"homework_03\", for example.\n",
    "\n",
    "How many lines are in the created metadata.yaml file?\n",
    "\n",
    "35 45 55 65"
   ]
  },
  {
   "cell_type": "code",
   "execution_count": null,
   "id": "e035308a-c470-4bca-8fb7-cfede0de0e14",
   "metadata": {},
   "outputs": [],
   "source": []
  },
  {
   "cell_type": "markdown",
   "id": "3a59b632-ee8d-4c39-94a6-d0090731241e",
   "metadata": {},
   "source": [
    "Question 3. Creating a pipeline Let's create an ingestion code block.\n",
    "\n",
    "In this block, we will read the March 2023 Yellow taxi trips data.\n",
    "\n",
    "How many records did we load?\n",
    "\n",
    "3,003,766\n",
    "\n",
    "3,203,766\n",
    "\n",
    "3,403,766\n",
    "\n",
    "3,603,766"
   ]
  },
  {
   "cell_type": "code",
   "execution_count": null,
   "id": "ffcf0311-4c9b-41cf-8b32-2c4cee7f52fd",
   "metadata": {},
   "outputs": [],
   "source": []
  },
  {
   "cell_type": "markdown",
   "id": "97cbe224-ab5d-4867-b778-2921d9cf416b",
   "metadata": {},
   "source": [
    "Question 4. Data preparation Let's adjust it and apply to the data we loaded in question 3.\n",
    "\n",
    "What's the size of the result?\n",
    "\n",
    "2,903,766\n",
    "\n",
    "3,103,766\n",
    "\n",
    "3,316,216\n",
    "\n",
    "3,503,766"
   ]
  },
  {
   "cell_type": "code",
   "execution_count": null,
   "id": "f04fd245-c20f-4c2b-adac-24e11e1e6a28",
   "metadata": {},
   "outputs": [],
   "source": []
  },
  {
   "cell_type": "markdown",
   "id": "36847924-e48f-470f-9b89-02d002019e21",
   "metadata": {},
   "source": [
    "Question 5. What's the intercept of the model?\n",
    "\n",
    "Hint: print the intercept_ field in the code block\n",
    "\n",
    "21.77\n",
    "\n",
    "24.77\n",
    "\n",
    "27.77\n",
    "\n",
    "31.77"
   ]
  },
  {
   "cell_type": "code",
   "execution_count": null,
   "id": "29bb4b77-cf48-4a0c-9d8f-d5d171a4f046",
   "metadata": {},
   "outputs": [],
   "source": []
  },
  {
   "cell_type": "markdown",
   "id": "8b28322f-d389-4836-aa34-507f71530b8e",
   "metadata": {},
   "source": [
    "Question 6. Find the logged model, and find MLModel file. What's the size of the model? (model_size_bytes field):\n",
    "\n",
    "14,534\n",
    "\n",
    "9,534\n",
    "\n",
    "4,534\n",
    "\n",
    "1,534"
   ]
  }
 ],
 "metadata": {
  "kernelspec": {
   "display_name": "Python 3 (ipykernel)",
   "language": "python",
   "name": "python3"
  },
  "language_info": {
   "codemirror_mode": {
    "name": "ipython",
    "version": 3
   },
   "file_extension": ".py",
   "mimetype": "text/x-python",
   "name": "python",
   "nbconvert_exporter": "python",
   "pygments_lexer": "ipython3",
   "version": "3.12.1"
  }
 },
 "nbformat": 4,
 "nbformat_minor": 5
}
